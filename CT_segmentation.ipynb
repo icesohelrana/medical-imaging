{
 "cells": [
  {
   "cell_type": "markdown",
   "metadata": {},
   "source": []
  },
  {
   "cell_type": "markdown",
   "metadata": {},
   "source": []
  },
  {
   "cell_type": "markdown",
   "metadata": {},
   "source": []
  },
  {
   "cell_type": "code",
   "execution_count": 1,
   "metadata": {},
   "outputs": [
    {
     "name": "stderr",
     "output_type": "stream",
     "text": [
      "/home/sohel/anaconda3/envs/ML_challenge/lib/python3.6/site-packages/tqdm/auto.py:22: TqdmWarning: IProgress not found. Please update jupyter and ipywidgets. See https://ipywidgets.readthedocs.io/en/stable/user_install.html\n",
      "  from .autonotebook import tqdm as notebook_tqdm\n"
     ]
    },
    {
     "name": "stdout",
     "output_type": "stream",
     "text": [
      "137 59\n"
     ]
    },
    {
     "name": "stderr",
     "output_type": "stream",
     "text": [
      "/home/sohel/anaconda3/envs/ML_challenge/lib/python3.6/site-packages/torchvision/transforms/transforms.py:288: UserWarning: Argument interpolation should be of type InterpolationMode instead of int. Please, use InterpolationMode enum.\n",
      "  \"Argument interpolation should be of type InterpolationMode instead of int. \"\n"
     ]
    }
   ],
   "source": [
    "# Dataloader\n",
    "import torch\n",
    "import torchvision\n",
    "import glob\n",
    "from torch import nn\n",
    "from PIL import Image\n",
    "from torch.utils.data import DataLoader, Dataset\n",
    "import torchvision.transforms as transforms\n",
    "from torch.utils.data import random_split\n",
    "\n",
    "seed = 0\n",
    "torch.manual_seed(seed)\n",
    "torch.cuda.manual_seed(seed)\n",
    "torch.backends.cudnn.benchmark = True\n",
    "torch.backends.cudnn.deterministic = True\n",
    "\n",
    "transform = transforms.Compose([\n",
    "    torchvision.transforms.Resize((384,384)),\n",
    "    torchvision.transforms.ToTensor(),\n",
    "    torchvision.transforms.Normalize(mean=[0.485, 0.456, 0.406], std=[0.229, 0.224, 0.225]),\n",
    "])\n",
    "\n",
    "class DC_frame_loader(Dataset):\n",
    "    def __init__(self, frame_root,ann_root,transform=None):\n",
    "        # self.transforms = transforms.Compose([transforms.ToTensor(),transforms.Resize((128,64)),transforms.Normalize([0.485, 0.456, 0.406], [0.229, 0.224, 0.225])])\n",
    "        self.frames = sorted(glob.glob(os.path.join(frame_root,\"*\")))\n",
    "        self.heatmaps = sorted(glob.glob(os.path.join(ann_root,\"*\")))\n",
    "        self.size = len(self.heatmaps)\n",
    "        self.transform=transform\n",
    "        self.heatmap_transforms = transforms.Resize((384,384), Image.BILINEAR)\n",
    "    def __len__(self):\n",
    "        return self.size\n",
    "    def __getitem__(self, index):\n",
    "        # Load video frames\n",
    "        frame = Image.open(self.frames[index])\n",
    "        frame = self.transform(frame)\n",
    "        # frame = frame.squeeze(dim=1)\n",
    "        # Load ground truth heatmap\n",
    "        heatmap = Image.open(self.heatmaps[index])\n",
    "        heatmap = transforms.ToTensor()(heatmap)\n",
    "        heatmap = heatmap.squeeze(dim=0)\n",
    "        return frame, heatmap\n",
    "frame_root = '/home/sohel_experiment/segmentation-data/Inputs_OriginalimagesTaskID_PNGs'\n",
    "ann_root = '/home/sohel_experiment/segmentation-data/BinaryClassification'\n",
    "dataset = DC_frame_loader(frame_root,ann_root,transform=transform)\n",
    "train_size = int(0.7 * (round(len(dataset))))  # split in 0.7,0.3 for train and test.\n",
    "test_size = len(dataset) - train_size\n",
    "train_dataset, test_dataset = random_split(dataset, [train_size, test_size], generator=torch.Generator().manual_seed(seed))\n",
    "train_len = len(train_dataset)\n",
    "val_len = len(test_dataset)\n",
    "print(train_len,val_len)\n",
    "train_loader = DataLoader(train_dataset, batch_size=16,\n",
    "                                shuffle=True,\n",
    "                                num_workers=8,drop_last=True)\n",
    "val_loader = DataLoader(test_dataset, batch_size=1,\n",
    "                                shuffle=True,num_workers=0)\n"
   ]
  },
  {
   "cell_type": "code",
   "execution_count": 2,
   "metadata": {},
   "outputs": [],
   "source": [
    "class diceloss(torch.nn.Module):\n",
    "    def init(self):\n",
    "        super(diceLoss, self).init()\n",
    "    def forward(self,pred, target):\n",
    "       smooth = 1.\n",
    "       iflat = pred.contiguous().view(-1)\n",
    "       tflat = target.contiguous().view(-1)\n",
    "       intersection = (iflat * tflat).sum()\n",
    "       A_sum = torch.sum(iflat * iflat)\n",
    "       B_sum = torch.sum(tflat * tflat)\n",
    "       return 1 - ((2. * intersection + smooth) / (A_sum + B_sum + smooth) )"
   ]
  },
  {
   "cell_type": "code",
   "execution_count": 3,
   "metadata": {},
   "outputs": [],
   "source": [
    "import segmentation_models_pytorch as deeplav3pl\n",
    "import torch_optimizer\n",
    "\n",
    "model = deeplav3pl.DeepLabV3Plus(encoder_name=\"resnet50\",activation=None)\n",
    "model = model.cuda()\n",
    "critertion = diceloss()\n",
    "optimizer = torch.optim.Adam(model.parameters(), lr=0.001)\n",
    "# optimizer = torch_optimizer.RAdam(model.parameters(),lr= 0.01,betas=(0.9, 0.999),eps=1e-8,weight_decay=0)\n",
    "scheduler = torch.optim.lr_scheduler.MultiStepLR(optimizer, milestones=[20,50,200], gamma=0.1)"
   ]
  },
  {
   "cell_type": "code",
   "execution_count": 4,
   "metadata": {},
   "outputs": [],
   "source": [
    "import matplotlib.pyplot as plt\n",
    "def train_epoch(model,train_loader,optimizer,criterion,epoch,image_out_dir):\n",
    "    model.train()\n",
    "    losses=[]\n",
    "    # train_acc=torchmetrics.Accuracy()\n",
    "    j=0\n",
    "    for i, data in enumerate(train_loader):\n",
    "        inp, heatmap = data\n",
    "        # inp = inp.permute(0,1,3,4,2) # b c h w t\n",
    "        inp,heatmap = inp.cuda(),heatmap.cuda()\n",
    "        out = model(inp)\n",
    "        \n",
    "        # out = out.squeeze(dim=4)\n",
    "        out = out.squeeze(dim=1)\n",
    "        out = nn.Sigmoid()(out)\n",
    "        loss = criterion(out,heatmap)\n",
    "        \n",
    "        optimizer.zero_grad()\n",
    "        loss.backward()\n",
    "        optimizer.step()\n",
    "        losses.append(loss.item())\n",
    "        if epoch % 5 == 0:\n",
    "            Path(os.path.join(image_out_dir,str(epoch))).mkdir(parents=True, exist_ok=True)\n",
    "            # for o,h_map in zip(out,heatmap):\n",
    "            o = out[0]\n",
    "            h_map = heatmap[0]\n",
    "            plt.imshow(o.cpu().detach().numpy())\n",
    "            plt.colorbar()\n",
    "            plt.savefig(os.path.join(image_out_dir,str(epoch),str(i)+'_pred.png'))\n",
    "            plt.close()\n",
    "            plt.imshow(h_map.cpu().detach().numpy())\n",
    "            plt.colorbar()\n",
    "            plt.savefig(os.path.join(image_out_dir,str(epoch),str(i)+'_gt.png'))\n",
    "            plt.close()\n",
    "            j=j+1\n",
    "        # train_acc(out.cpu(),gt_cls.cpu())    \n",
    "    avg_losses = sum(losses)/train_len\n",
    "    return avg_losses"
   ]
  },
  {
   "cell_type": "code",
   "execution_count": 5,
   "metadata": {},
   "outputs": [],
   "source": [
    "def val_epoch(model,val_loader,criterion,epoch,image_out_dir):\n",
    "    model.eval()\n",
    "    losses=[]\n",
    "    # val_acc=torchmetrics.Accuracy()\n",
    "    j=0\n",
    "    for i, data in enumerate(val_loader):\n",
    "        inp, heatmap = data\n",
    "        # inp = inp.permute(0,1,3,4,2)\n",
    "        \n",
    "        inp,heatmap = inp.cuda(),heatmap.cuda()\n",
    "        with torch.no_grad():\n",
    "            out = model(inp)\n",
    "            # out = out.squeeze(dim=4)\n",
    "            out = out.squeeze(dim=1)\n",
    "            out = nn.Sigmoid()(out)\n",
    "            loss = criterion(out,heatmap)        \n",
    "        if epoch % 5 == 0:\n",
    "            Path(os.path.join(image_out_dir,str(epoch))).mkdir(parents=True, exist_ok=True)\n",
    "            # for o,h_map in zip(out,heatmap):\n",
    "            o = out[0]\n",
    "            h_map = heatmap[0]\n",
    "            plt.imshow(o.cpu().detach().numpy())\n",
    "            plt.colorbar()\n",
    "            plt.savefig(os.path.join(image_out_dir,str(epoch),str(j)+'_pred.png'))\n",
    "            plt.close()\n",
    "            plt.imshow(h_map.cpu().detach().numpy())\n",
    "            plt.colorbar()\n",
    "            plt.savefig(os.path.join(image_out_dir,str(epoch),str(j)+'_gt.png'))\n",
    "            plt.close()\n",
    "                # j=j+1\n",
    "        losses.append(loss.item())\n",
    "        # val_acc(out.cpu(),gt_cls.cpu())\n",
    "    avg_losses = sum(losses)/val_len\n",
    "    # val_acc.reset()\n",
    "    return avg_losses"
   ]
  },
  {
   "cell_type": "code",
   "execution_count": 6,
   "metadata": {},
   "outputs": [
    {
     "name": "stdout",
     "output_type": "stream",
     "text": [
      "epoch=1\n",
      "training losses=0.05781552869908131, validation losses = 0.9964432979034166\n",
      "epoch=2\n",
      "training losses=0.051276417544288355, validation losses = 0.9483432214138872\n",
      "epoch=3\n",
      "training losses=0.04117606591134176, validation losses = 0.9091445096468521\n",
      "epoch=4\n",
      "training losses=0.034261242751657525, validation losses = 0.8601473832534532\n",
      "epoch=5\n",
      "training losses=0.031394312851620414, validation losses = 0.6505672022447748\n",
      "epoch=6\n",
      "training losses=0.030173323885367736, validation losses = 0.6414766059083453\n",
      "epoch=7\n"
     ]
    }
   ],
   "source": [
    "from pathlib import Path\n",
    "from torch.utils.tensorboard import SummaryWriter\n",
    "Path(os.path.join(\"./results/tensorboard/train\")).mkdir(parents=True, exist_ok=True)\n",
    "Path(os.path.join(\"./results/tensorboard/val\")).mkdir(parents=True, exist_ok=True)\n",
    "train_img_out_dir = os.path.join(\"./results/image_outputs\",\"train\")\n",
    "Path(train_img_out_dir).mkdir(parents=True, exist_ok=True)\n",
    "val_img_out_dir = os.path.join(\"./results/image_outputs\",\"val\")\n",
    "Path(val_img_out_dir).mkdir(parents=True, exist_ok=True)\n",
    "train_writer = SummaryWriter(os.path.join(\"./results/tensorboard/train\"))\n",
    "val_writer = SummaryWriter(os.path.join(\"./results/tensorboard/val\"))\n",
    "for epoch in range(51):\n",
    "    print(f'epoch={epoch+1}')\n",
    "    train_losses = train_epoch(model,train_loader,optimizer,critertion,epoch,train_img_out_dir)\n",
    "    val_losses = val_epoch(model,val_loader,critertion,epoch,val_img_out_dir)\n",
    "    train_writer.add_scalar('loss',train_losses,epoch)\n",
    "    val_writer.add_scalar('loss',val_losses,epoch)\n",
    "    print(f'training losses={train_losses}, validation losses = {val_losses}')\n",
    "    scheduler.step()"
   ]
  }
 ],
 "metadata": {
  "interpreter": {
   "hash": "7c7bc4ac6d0ec814b1121c498d9e9ac16b34ad6bcb221008b6981f4436f126f7"
  },
  "kernelspec": {
   "display_name": "ML_challenge",
   "language": "python",
   "name": "ml_challenge"
  },
  "language_info": {
   "codemirror_mode": {
    "name": "ipython",
    "version": 3
   },
   "file_extension": ".py",
   "mimetype": "text/x-python",
   "name": "python",
   "nbconvert_exporter": "python",
   "pygments_lexer": "ipython3",
   "version": "3.6.8"
  }
 },
 "nbformat": 4,
 "nbformat_minor": 2
}
